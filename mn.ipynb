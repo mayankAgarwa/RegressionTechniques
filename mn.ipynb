{
 "cells": [
  {
   "cell_type": "code",
   "execution_count": 691,
   "metadata": {},
   "outputs": [],
   "source": [
    "import pandas as pd\n",
    "import nltk,re\n",
    "from sklearn.metrics.pairwise import cosine_similarity\n",
    "from nltk.corpus import stopwords\n",
    "stop = stopwords.words('english')\n",
    "# from sklearn.feature_extraction.text import TfidfVectorizer\n",
    "import numpy as np\n",
    "import seaborn as sns\n",
    "sns.set_style(\"darkgrid\")"
   ]
  },
  {
   "cell_type": "markdown",
   "metadata": {},
   "source": [
    "# Reading Data"
   ]
  },
  {
   "cell_type": "code",
   "execution_count": 81,
   "metadata": {},
   "outputs": [],
   "source": [
    "df=pd.read_excel('Final_Train_m.xlsx')"
   ]
  },
  {
   "cell_type": "code",
   "execution_count": 82,
   "metadata": {},
   "outputs": [
    {
     "name": "stdout",
     "output_type": "stream",
     "text": [
      "count    5961.000000\n",
      "mean      307.944640\n",
      "std       190.920373\n",
      "min         5.000000\n",
      "25%       150.000000\n",
      "50%       300.000000\n",
      "75%       500.000000\n",
      "max       950.000000\n",
      "Name: Fees, dtype: float64\n",
      "Index(['Qualification', 'q1', 'q2', 'q3', 'q4', 'q5', 'q6', 'q7', 'q8', 'q9',\n",
      "       'q10', 'Rating', 'Place', 'city', 'Fees', 'Experience', 'Profile'],\n",
      "      dtype='object')\n"
     ]
    }
   ],
   "source": [
    "print(df.Fees.describe())\n",
    "print(df.columns)"
   ]
  },
  {
   "cell_type": "code",
   "execution_count": 75,
   "metadata": {},
   "outputs": [],
   "source": [
    "from collections import Counter"
   ]
  },
  {
   "cell_type": "code",
   "execution_count": 83,
   "metadata": {},
   "outputs": [],
   "source": [
    "qlf=df.Qualification.tolist()"
   ]
  },
  {
   "cell_type": "markdown",
   "metadata": {},
   "source": [
    "# Using Linear Regression"
   ]
  },
  {
   "cell_type": "code",
   "execution_count": 696,
   "metadata": {},
   "outputs": [],
   "source": [
    "from sklearn.linear_model import LinearRegression"
   ]
  },
  {
   "cell_type": "code",
   "execution_count": 697,
   "metadata": {},
   "outputs": [],
   "source": [
    "from sklearn.model_selection import train_test_split"
   ]
  },
  {
   "cell_type": "code",
   "execution_count": null,
   "metadata": {},
   "outputs": [],
   "source": []
  },
  {
   "cell_type": "code",
   "execution_count": null,
   "metadata": {},
   "outputs": [],
   "source": [
    "plt.figure(figsize=(15, 8))\n",
    "sns.distplot(y_train)\n",
    "sns.distplot(y_test)"
   ]
  },
  {
   "cell_type": "code",
   "execution_count": 698,
   "metadata": {},
   "outputs": [],
   "source": [
    "data= pd.read_csv('rfdf_binned_newfeats.csv')\n",
    "data_100= pd.read_csv('rfdf_binned_newfeats.csv')\n",
    "data_100=data_100[data_100['Fees']>=100]\n",
    "x=data.drop(['Qualification','Experience','Fees','Place'],axis=1)\n",
    "y=data['Fees']\n",
    "x_100=data_100.drop(['Qualification','Experience','Fees','Place'],axis=1)\n",
    "y_100=data_100['Fees']\n",
    "\n",
    "\n"
   ]
  },
  {
   "cell_type": "code",
   "execution_count": 699,
   "metadata": {},
   "outputs": [],
   "source": [
    "x_train, x_test, y_train, y_test = train_test_split(x, y, test_size=0.2)\n",
    "x_100_train, x_100_test, y_100_train, y_100_test = train_test_split(x_100, y_100, test_size=0.2)"
   ]
  },
  {
   "cell_type": "code",
   "execution_count": 688,
   "metadata": {},
   "outputs": [
    {
     "data": {
      "text/html": [
       "<div>\n",
       "<style scoped>\n",
       "    .dataframe tbody tr th:only-of-type {\n",
       "        vertical-align: middle;\n",
       "    }\n",
       "\n",
       "    .dataframe tbody tr th {\n",
       "        vertical-align: top;\n",
       "    }\n",
       "\n",
       "    .dataframe thead th {\n",
       "        text-align: right;\n",
       "    }\n",
       "</style>\n",
       "<table border=\"1\" class=\"dataframe\">\n",
       "  <thead>\n",
       "    <tr style=\"text-align: right;\">\n",
       "      <th></th>\n",
       "      <th>Qualification</th>\n",
       "      <th>Place</th>\n",
       "      <th>Fees</th>\n",
       "      <th>Experience</th>\n",
       "      <th>no_of_qalif</th>\n",
       "      <th>city_ Bangalore</th>\n",
       "      <th>city_ Chennai</th>\n",
       "      <th>city_ Coimbatore</th>\n",
       "      <th>city_ Delhi</th>\n",
       "      <th>city_ Ernakulam</th>\n",
       "      <th>...</th>\n",
       "      <th>Profile_General Medicine</th>\n",
       "      <th>Profile_Homeopath</th>\n",
       "      <th>binned_exp</th>\n",
       "      <th>bds</th>\n",
       "      <th>bhms</th>\n",
       "      <th>bams</th>\n",
       "      <th>ms</th>\n",
       "      <th>md</th>\n",
       "      <th>mds</th>\n",
       "      <th>mbbs</th>\n",
       "    </tr>\n",
       "  </thead>\n",
       "  <tbody>\n",
       "    <tr>\n",
       "      <th>0</th>\n",
       "      <td>BHMS , MD - Homeopathy</td>\n",
       "      <td>Kakkanad</td>\n",
       "      <td>100</td>\n",
       "      <td>24</td>\n",
       "      <td>2</td>\n",
       "      <td>0</td>\n",
       "      <td>0</td>\n",
       "      <td>0</td>\n",
       "      <td>0</td>\n",
       "      <td>1</td>\n",
       "      <td>...</td>\n",
       "      <td>0</td>\n",
       "      <td>1</td>\n",
       "      <td>5</td>\n",
       "      <td>0</td>\n",
       "      <td>1</td>\n",
       "      <td>0</td>\n",
       "      <td>0</td>\n",
       "      <td>1</td>\n",
       "      <td>0</td>\n",
       "      <td>0</td>\n",
       "    </tr>\n",
       "    <tr>\n",
       "      <th>1</th>\n",
       "      <td>BAMS, MD - Ayurveda Medicine</td>\n",
       "      <td>Whitefield</td>\n",
       "      <td>350</td>\n",
       "      <td>12</td>\n",
       "      <td>2</td>\n",
       "      <td>1</td>\n",
       "      <td>0</td>\n",
       "      <td>0</td>\n",
       "      <td>0</td>\n",
       "      <td>0</td>\n",
       "      <td>...</td>\n",
       "      <td>0</td>\n",
       "      <td>0</td>\n",
       "      <td>3</td>\n",
       "      <td>0</td>\n",
       "      <td>0</td>\n",
       "      <td>1</td>\n",
       "      <td>0</td>\n",
       "      <td>1</td>\n",
       "      <td>0</td>\n",
       "      <td>0</td>\n",
       "    </tr>\n",
       "    <tr>\n",
       "      <th>2</th>\n",
       "      <td>MBBS, MS - Otorhinolaryngology</td>\n",
       "      <td>Mathikere - BEL</td>\n",
       "      <td>300</td>\n",
       "      <td>9</td>\n",
       "      <td>2</td>\n",
       "      <td>1</td>\n",
       "      <td>0</td>\n",
       "      <td>0</td>\n",
       "      <td>0</td>\n",
       "      <td>0</td>\n",
       "      <td>...</td>\n",
       "      <td>0</td>\n",
       "      <td>0</td>\n",
       "      <td>2</td>\n",
       "      <td>0</td>\n",
       "      <td>0</td>\n",
       "      <td>0</td>\n",
       "      <td>1</td>\n",
       "      <td>0</td>\n",
       "      <td>0</td>\n",
       "      <td>1</td>\n",
       "    </tr>\n",
       "    <tr>\n",
       "      <th>3</th>\n",
       "      <td>BSc - Zoology, BAMS</td>\n",
       "      <td>Bannerghatta Road</td>\n",
       "      <td>250</td>\n",
       "      <td>12</td>\n",
       "      <td>2</td>\n",
       "      <td>1</td>\n",
       "      <td>0</td>\n",
       "      <td>0</td>\n",
       "      <td>0</td>\n",
       "      <td>0</td>\n",
       "      <td>...</td>\n",
       "      <td>0</td>\n",
       "      <td>0</td>\n",
       "      <td>3</td>\n",
       "      <td>0</td>\n",
       "      <td>0</td>\n",
       "      <td>1</td>\n",
       "      <td>0</td>\n",
       "      <td>0</td>\n",
       "      <td>0</td>\n",
       "      <td>0</td>\n",
       "    </tr>\n",
       "    <tr>\n",
       "      <th>4</th>\n",
       "      <td>BAMS</td>\n",
       "      <td>Keelkattalai</td>\n",
       "      <td>250</td>\n",
       "      <td>20</td>\n",
       "      <td>1</td>\n",
       "      <td>0</td>\n",
       "      <td>1</td>\n",
       "      <td>0</td>\n",
       "      <td>0</td>\n",
       "      <td>0</td>\n",
       "      <td>...</td>\n",
       "      <td>0</td>\n",
       "      <td>0</td>\n",
       "      <td>4</td>\n",
       "      <td>0</td>\n",
       "      <td>0</td>\n",
       "      <td>1</td>\n",
       "      <td>0</td>\n",
       "      <td>0</td>\n",
       "      <td>0</td>\n",
       "      <td>0</td>\n",
       "    </tr>\n",
       "  </tbody>\n",
       "</table>\n",
       "<p>5 rows × 27 columns</p>\n",
       "</div>"
      ],
      "text/plain": [
       "                    Qualification              Place  Fees  Experience  \\\n",
       "0          BHMS , MD - Homeopathy           Kakkanad   100          24   \n",
       "1    BAMS, MD - Ayurveda Medicine         Whitefield   350          12   \n",
       "2  MBBS, MS - Otorhinolaryngology    Mathikere - BEL   300           9   \n",
       "3             BSc - Zoology, BAMS  Bannerghatta Road   250          12   \n",
       "4                            BAMS       Keelkattalai   250          20   \n",
       "\n",
       "   no_of_qalif  city_ Bangalore  city_ Chennai  city_ Coimbatore  city_ Delhi  \\\n",
       "0            2                0              0                 0            0   \n",
       "1            2                1              0                 0            0   \n",
       "2            2                1              0                 0            0   \n",
       "3            2                1              0                 0            0   \n",
       "4            1                0              1                 0            0   \n",
       "\n",
       "   city_ Ernakulam  ...   Profile_General Medicine  Profile_Homeopath  \\\n",
       "0                1  ...                          0                  1   \n",
       "1                0  ...                          0                  0   \n",
       "2                0  ...                          0                  0   \n",
       "3                0  ...                          0                  0   \n",
       "4                0  ...                          0                  0   \n",
       "\n",
       "   binned_exp  bds  bhms  bams  ms  md  mds  mbbs  \n",
       "0           5    0     1     0   0   1    0     0  \n",
       "1           3    0     0     1   0   1    0     0  \n",
       "2           2    0     0     0   1   0    0     1  \n",
       "3           3    0     0     1   0   0    0     0  \n",
       "4           4    0     0     1   0   0    0     0  \n",
       "\n",
       "[5 rows x 27 columns]"
      ]
     },
     "execution_count": 688,
     "metadata": {},
     "output_type": "execute_result"
    }
   ],
   "source": [
    "data.head()"
   ]
  },
  {
   "cell_type": "code",
   "execution_count": null,
   "metadata": {},
   "outputs": [],
   "source": []
  },
  {
   "cell_type": "code",
   "execution_count": 700,
   "metadata": {},
   "outputs": [],
   "source": [
    "model= LinearRegression()"
   ]
  },
  {
   "cell_type": "code",
   "execution_count": 701,
   "metadata": {},
   "outputs": [
    {
     "data": {
      "text/plain": [
       "LinearRegression(copy_X=True, fit_intercept=True, n_jobs=None,\n",
       "         normalize=False)"
      ]
     },
     "execution_count": 701,
     "metadata": {},
     "output_type": "execute_result"
    }
   ],
   "source": [
    "model.fit(x_train,y_train)"
   ]
  },
  {
   "cell_type": "code",
   "execution_count": 702,
   "metadata": {},
   "outputs": [],
   "source": [
    "pred= model.predict(x_test)"
   ]
  },
  {
   "cell_type": "code",
   "execution_count": 686,
   "metadata": {},
   "outputs": [
    {
     "data": {
      "text/plain": [
       "array([249.63991292, 207.4140002 , 222.41411245, ..., 295.15481049,\n",
       "       141.75519096, 122.17078244])"
      ]
     },
     "execution_count": 686,
     "metadata": {},
     "output_type": "execute_result"
    }
   ],
   "source": [
    "\n"
   ]
  },
  {
   "cell_type": "code",
   "execution_count": 683,
   "metadata": {},
   "outputs": [],
   "source": [
    "from sklearn.metrics import mean_absolute_error"
   ]
  },
  {
   "cell_type": "code",
   "execution_count": 703,
   "metadata": {},
   "outputs": [
    {
     "data": {
      "text/plain": [
       "138.15940395657583"
      ]
     },
     "execution_count": 703,
     "metadata": {},
     "output_type": "execute_result"
    }
   ],
   "source": [
    "mean_absolute_error(pred,y_test)"
   ]
  },
  {
   "cell_type": "code",
   "execution_count": 201,
   "metadata": {},
   "outputs": [],
   "source": [
    "import tensorflow as tf"
   ]
  },
  {
   "cell_type": "code",
   "execution_count": 348,
   "metadata": {},
   "outputs": [],
   "source": [
    "data['Fees'] = np.where(data['Fees']<100, 200, data['Fees'])"
   ]
  },
  {
   "cell_type": "markdown",
   "metadata": {},
   "source": [
    "# Nueral Netwok"
   ]
  },
  {
   "cell_type": "code",
   "execution_count": 643,
   "metadata": {},
   "outputs": [],
   "source": [
    "from keras import Sequential"
   ]
  },
  {
   "cell_type": "code",
   "execution_count": 707,
   "metadata": {},
   "outputs": [],
   "source": [
    "model_nn = Sequential()"
   ]
  },
  {
   "cell_type": "code",
   "execution_count": 708,
   "metadata": {},
   "outputs": [],
   "source": [
    "model_nn.add(Dense(23,input_dim= 23,kernel_initializer= 'normal',activation='relu' ))\n",
    "model_nn.add(Dense(46,kernel_initializer='normal',activation='relu'))\n",
    "model_nn.add(Dense(4,kernel_initializer='normal',activation='relu'))\n",
    "model_nn.add(Dense(1,kernel_initializer='normal'))\n",
    "model_nn.compile(loss= 'mean_absolute_error',optimizer='adam',metrics=['mse','mae'])\n"
   ]
  },
  {
   "cell_type": "code",
   "execution_count": 709,
   "metadata": {},
   "outputs": [
    {
     "data": {
      "text/plain": [
       "<keras.callbacks.History at 0x7f8d6799ec18>"
      ]
     },
     "execution_count": 709,
     "metadata": {},
     "output_type": "execute_result"
    }
   ],
   "source": [
    "model_nn.fit(x_train,y_train,validation_split=0.2,epochs=100,verbose=0)"
   ]
  },
  {
   "cell_type": "code",
   "execution_count": 710,
   "metadata": {},
   "outputs": [],
   "source": [
    "pred_nn= model.predict(x_test)"
   ]
  },
  {
   "cell_type": "code",
   "execution_count": 711,
   "metadata": {},
   "outputs": [
    {
     "data": {
      "text/plain": [
       "138.15940395657583"
      ]
     },
     "execution_count": 711,
     "metadata": {},
     "output_type": "execute_result"
    }
   ],
   "source": [
    "mean_absolute_error(y_test,pred_nn)"
   ]
  },
  {
   "cell_type": "markdown",
   "metadata": {},
   "source": [
    "# Testing Data "
   ]
  },
  {
   "cell_type": "code",
   "execution_count": 752,
   "metadata": {},
   "outputs": [
    {
     "data": {
      "text/plain": [
       "Index(['no_of_qalif', 'city_ Bangalore', 'city_ Chennai', 'city_ Coimbatore',\n",
       "       'city_ Delhi', 'city_ Ernakulam', 'city_ Hyderabad', 'city_ Mumbai',\n",
       "       'city_ Thiruvananthapuram', 'Profile_Ayurveda', 'Profile_Dentist',\n",
       "       'Profile_Dermatologists', 'Profile_ENT Specialist',\n",
       "       'Profile_General Medicine', 'Profile_Homeopath', 'binned_exp', 'bds',\n",
       "       'bhms', 'bams', 'ms', 'md', 'mds', 'mbbs'],\n",
       "      dtype='object')"
      ]
     },
     "execution_count": 752,
     "metadata": {},
     "output_type": "execute_result"
    }
   ],
   "source": [
    "test_data= pd.read_excel('full_sub.xlsx')\n",
    "x_train.columns"
   ]
  },
  {
   "cell_type": "code",
   "execution_count": 753,
   "metadata": {},
   "outputs": [],
   "source": [
    "imp_col=[ 'no_of_qalif', 'city_ Bangalore', 'city_ Chennai', 'city_ Coimbatore',\n",
    "       'city_ Delhi', 'city_ Ernakulam', 'city_ Hyderabad', 'city_ Mumbai',\n",
    "       'city_ Thiruvananthapuram', 'Profile_Ayurveda', 'Profile_Dentist',\n",
    "       'Profile_Dermatologists', 'Profile_ENT Specialist',\n",
    "       'Profile_General Medicine', 'Profile_Homeopath', 'binned_exp', 'bds',\n",
    "       'bhms', 'bams', 'ms', 'md', 'mds', 'mbbs']"
   ]
  },
  {
   "cell_type": "code",
   "execution_count": 761,
   "metadata": {},
   "outputs": [],
   "source": [
    "pred_pro=model_rf.predict(test_data[imp_col])\n",
    "pred3=model_svc_100.predict(test_data[imp_col])\n"
   ]
  },
  {
   "cell_type": "code",
   "execution_count": 762,
   "metadata": {},
   "outputs": [
    {
     "data": {
      "text/plain": [
       "array([262.91013809, 362.24659014, 351.6305172 , ..., 336.56641313,\n",
       "       199.58753304, 388.03064441])"
      ]
     },
     "execution_count": 762,
     "metadata": {},
     "output_type": "execute_result"
    }
   ],
   "source": [
    "pred_pro"
   ]
  },
  {
   "cell_type": "code",
   "execution_count": 763,
   "metadata": {},
   "outputs": [],
   "source": [
    "pd.Series(pred_pro.reshape(-1)).to_excel('mayank8.xlsx',index=False)"
   ]
  },
  {
   "cell_type": "markdown",
   "metadata": {},
   "source": [
    "# Using Ridge,Lasso and Elastic Net"
   ]
  },
  {
   "cell_type": "code",
   "execution_count": 712,
   "metadata": {},
   "outputs": [],
   "source": [
    "from sklearn.linear_model import Ridge\n",
    "from sklearn.linear_model import Lasso\n",
    "from sklearn.linear_model import ElasticNet"
   ]
  },
  {
   "cell_type": "code",
   "execution_count": 713,
   "metadata": {},
   "outputs": [],
   "source": [
    "r= Ridge()\n",
    "e= ElasticNet()\n",
    "l= Lasso()"
   ]
  },
  {
   "cell_type": "code",
   "execution_count": 714,
   "metadata": {},
   "outputs": [
    {
     "data": {
      "text/plain": [
       "Lasso(alpha=1.0, copy_X=True, fit_intercept=True, max_iter=1000,\n",
       "   normalize=False, positive=False, precompute=False, random_state=None,\n",
       "   selection='cyclic', tol=0.0001, warm_start=False)"
      ]
     },
     "execution_count": 714,
     "metadata": {},
     "output_type": "execute_result"
    }
   ],
   "source": [
    "e.fit(x_train,y_train)\n",
    "r.fit(x_train,y_train)\n",
    "l.fit(x_train,y_train)"
   ]
  },
  {
   "cell_type": "code",
   "execution_count": 715,
   "metadata": {},
   "outputs": [],
   "source": [
    "pred_lasso=l.predict(x_test)\n",
    "pred_ridge=r.predict(x_test)\n",
    "pred_elastic=e.predict(x_test)"
   ]
  },
  {
   "cell_type": "code",
   "execution_count": 757,
   "metadata": {},
   "outputs": [
    {
     "name": "stdout",
     "output_type": "stream",
     "text": [
      "Linear Regression 138.15940395657583\n",
      "Nueral Network 138.15940395657583\n",
      "LASSO 139.1069514882843\n",
      "RIDGE 138.1549559323921\n",
      "ELASTIC NET 145.94454093705903\n",
      "Random Forest 130.08576922866382\n",
      "XGBOOST 133.7871042537197\n"
     ]
    }
   ],
   "source": [
    "print('Linear Regression',mean_absolute_error(pred,y_test))\n",
    "print('Nueral Network',mean_absolute_error(pred_nn,y_test))\n",
    "print('LASSO',mean_absolute_error(pred_lasso,y_test))\n",
    "print('RIDGE',mean_absolute_error(pred_ridge,y_test))\n",
    "print('ELASTIC NET',mean_absolute_error(pred_elastic,y_test))\n",
    "print('Random Forest',mean_absolute_error(y_test,pred_rf))\n",
    "print('XGBOOST',mean_absolute_error(y_test,pred_xgb))\n",
    "\n"
   ]
  },
  {
   "cell_type": "markdown",
   "metadata": {},
   "source": [
    "# SVR"
   ]
  },
  {
   "cell_type": "code",
   "execution_count": 667,
   "metadata": {},
   "outputs": [],
   "source": [
    "from sklearn.svm import SVR\n",
    "from sklearn.model_selection import GridSearchCV"
   ]
  },
  {
   "cell_type": "code",
   "execution_count": 668,
   "metadata": {},
   "outputs": [],
   "source": [
    "tuned_parameters = [{'kernel': ['rbf'], 'gamma': [1e-3, 1e-4],'C': [1, 10, 100, 1000]},\n",
    "                    {'kernel': ['linear'], 'C': [1, 10, 100, 1000]},  \n",
    "                    {'kernel': ['poly'],'degree':[2,3,4,5], 'C': [1, 10, 100, 1000],'gamma': [1e-3, 1e-4]}]"
   ]
  },
  {
   "cell_type": "code",
   "execution_count": 669,
   "metadata": {},
   "outputs": [],
   "source": [
    "model_svc = GridSearchCV(SVR(), tuned_parameters, cv=5, verbose=0)"
   ]
  },
  {
   "cell_type": "code",
   "execution_count": 599,
   "metadata": {},
   "outputs": [],
   "source": [
    "model_svc_100=GridSearchCV(SVR(), tuned_parameters, cv=5, verbose=0)"
   ]
  },
  {
   "cell_type": "code",
   "execution_count": 579,
   "metadata": {},
   "outputs": [
    {
     "data": {
      "text/plain": [
       "GridSearchCV(cv=5, error_score='raise-deprecating',\n",
       "       estimator=SVR(C=1.0, cache_size=200, coef0=0.0, degree=3, epsilon=0.1,\n",
       "  gamma='auto_deprecated', kernel='rbf', max_iter=-1, shrinking=True,\n",
       "  tol=0.001, verbose=False),\n",
       "       fit_params=None, iid='warn', n_jobs=None,\n",
       "       param_grid=[{'kernel': ['rbf'], 'gamma': [0.001, 0.0001], 'C': [1, 10, 100, 1000]}, {'kernel': ['linear'], 'C': [1, 10, 100, 1000]}, {'kernel': ['poly'], 'degree': [2, 3, 4, 5], 'C': [1, 10, 100, 1000], 'gamma': [0.001, 0.0001]}],\n",
       "       pre_dispatch='2*n_jobs', refit=True, return_train_score='warn',\n",
       "       scoring=None, verbose=0)"
      ]
     },
     "execution_count": 579,
     "metadata": {},
     "output_type": "execute_result"
    }
   ],
   "source": [
    "model_svc.fit(x_train,y_train)\n"
   ]
  },
  {
   "cell_type": "code",
   "execution_count": 601,
   "metadata": {},
   "outputs": [
    {
     "data": {
      "text/plain": [
       "GridSearchCV(cv=5, error_score='raise-deprecating',\n",
       "       estimator=SVR(C=1.0, cache_size=200, coef0=0.0, degree=3, epsilon=0.1,\n",
       "  gamma='auto_deprecated', kernel='rbf', max_iter=-1, shrinking=True,\n",
       "  tol=0.001, verbose=False),\n",
       "       fit_params=None, iid='warn', n_jobs=None,\n",
       "       param_grid=[{'kernel': ['rbf'], 'gamma': [0.001, 0.0001], 'C': [1, 10, 100, 1000]}, {'kernel': ['linear'], 'C': [1, 10, 100, 1000]}, {'kernel': ['poly'], 'degree': [2, 3, 4, 5], 'C': [1, 10, 100, 1000], 'gamma': [0.001, 0.0001]}],\n",
       "       pre_dispatch='2*n_jobs', refit=True, return_train_score='warn',\n",
       "       scoring=None, verbose=0)"
      ]
     },
     "execution_count": 601,
     "metadata": {},
     "output_type": "execute_result"
    }
   ],
   "source": [
    "model_svc_100.fit(x_100_train,y_100_train)"
   ]
  },
  {
   "cell_type": "code",
   "execution_count": 602,
   "metadata": {},
   "outputs": [
    {
     "name": "stdout",
     "output_type": "stream",
     "text": [
      "{'C': 1000, 'gamma': 0.001, 'kernel': 'rbf'}\n",
      "{'C': 1000, 'gamma': 0.001, 'kernel': 'rbf'}\n"
     ]
    }
   ],
   "source": [
    "print(model_svc.best_params_)\n",
    "print(model_svc_100.best_params_)\n"
   ]
  },
  {
   "cell_type": "code",
   "execution_count": null,
   "metadata": {},
   "outputs": [],
   "source": [
    "pred_svc= model_svc.predict(x_test)\n",
    "pred_svc_100= model_svc_100.predict(x_100_test)"
   ]
  },
  {
   "cell_type": "code",
   "execution_count": 671,
   "metadata": {},
   "outputs": [
    {
     "data": {
      "text/plain": [
       "169.33257339750423"
      ]
     },
     "execution_count": 671,
     "metadata": {},
     "output_type": "execute_result"
    }
   ],
   "source": [
    "mean_absolute_error(pred_svc,y_test)"
   ]
  },
  {
   "cell_type": "code",
   "execution_count": 604,
   "metadata": {},
   "outputs": [
    {
     "data": {
      "text/plain": [
       "138.97906241117371"
      ]
     },
     "execution_count": 604,
     "metadata": {},
     "output_type": "execute_result"
    }
   ],
   "source": [
    "mean_absolute_error(pred_svc_100,y_100_test)"
   ]
  },
  {
   "cell_type": "code",
   "execution_count": 605,
   "metadata": {},
   "outputs": [
    {
     "data": {
      "text/plain": [
       "array([377.48851305, 251.28217475, 249.2212169 , ..., 233.28541675,\n",
       "       136.35287171, 234.36236676])"
      ]
     },
     "execution_count": 605,
     "metadata": {},
     "output_type": "execute_result"
    }
   ],
   "source": [
    "pred_svc_100"
   ]
  },
  {
   "cell_type": "markdown",
   "metadata": {},
   "source": [
    "# RANDOM FOREST REGRESSOR"
   ]
  },
  {
   "cell_type": "code",
   "execution_count": 717,
   "metadata": {},
   "outputs": [],
   "source": [
    "from sklearn.ensemble import RandomForestRegressor\n",
    "from sklearn.model_selection import RandomizedSearchCV"
   ]
  },
  {
   "cell_type": "code",
   "execution_count": 718,
   "metadata": {},
   "outputs": [],
   "source": [
    "# Number of trees in random forest\n",
    "n_estimators = [int(x) for x in np.linspace(start = 200, stop = 1000, num = 5)]\n",
    "# Number of features to consider at every split\n",
    "max_features = ['auto', 'sqrt']\n",
    "# Maximum number of levels in tree\n",
    "max_depth = [int(x) for x in np.linspace(10, 110, num = 11)]\n",
    "max_depth.append(None)\n",
    "# Minimum number of samples required to split a node\n",
    "min_samples_split = [2, 5, 10]\n",
    "# Minimum number of samples required at each leaf node\n",
    "min_samples_leaf = [1, 2, 4]\n",
    "# Method of selecting samples for training each tree\n",
    "bootstrap = [True, False]\n",
    "# Create the random grid\n",
    "random_grid = {'n_estimators': n_estimators,\n",
    "               'max_features': max_features,\n",
    "               'max_depth': max_depth,\n",
    "               'min_samples_split': min_samples_split,\n",
    "               'min_samples_leaf': min_samples_leaf,\n",
    "               'bootstrap': bootstrap}"
   ]
  },
  {
   "cell_type": "code",
   "execution_count": 719,
   "metadata": {},
   "outputs": [],
   "source": [
    "rf= RandomForestRegressor()"
   ]
  },
  {
   "cell_type": "code",
   "execution_count": 624,
   "metadata": {},
   "outputs": [],
   "source": [
    "model_rf = RandomizedSearchCV(estimator= rf, param_distributions = random_grid, n_iter = 100, cv = 3, verbose=2, random_state=42, n_jobs = -1)"
   ]
  },
  {
   "cell_type": "code",
   "execution_count": 625,
   "metadata": {},
   "outputs": [
    {
     "name": "stdout",
     "output_type": "stream",
     "text": [
      "Fitting 3 folds for each of 100 candidates, totalling 300 fits\n"
     ]
    },
    {
     "name": "stderr",
     "output_type": "stream",
     "text": [
      "[Parallel(n_jobs=-1)]: Using backend LokyBackend with 4 concurrent workers.\n",
      "[Parallel(n_jobs=-1)]: Done  33 tasks      | elapsed:   51.9s\n",
      "[Parallel(n_jobs=-1)]: Done 154 tasks      | elapsed:  3.0min\n",
      "[Parallel(n_jobs=-1)]: Done 300 out of 300 | elapsed:  5.6min finished\n"
     ]
    },
    {
     "data": {
      "text/plain": [
       "RandomizedSearchCV(cv=3, error_score='raise-deprecating',\n",
       "          estimator=RandomForestRegressor(bootstrap=True, criterion='mse', max_depth=None,\n",
       "           max_features='auto', max_leaf_nodes=None,\n",
       "           min_impurity_decrease=0.0, min_impurity_split=None,\n",
       "           min_samples_leaf=1, min_samples_split=2,\n",
       "           min_weight_fraction_leaf=0.0, n_estimators='warn', n_jobs=None,\n",
       "           oob_score=False, random_state=None, verbose=0, warm_start=False),\n",
       "          fit_params=None, iid='warn', n_iter=100, n_jobs=-1,\n",
       "          param_distributions={'n_estimators': [200, 400, 600, 800, 1000], 'max_features': ['auto', 'sqrt'], 'max_depth': [10, 20, 30, 40, 50, 60, 70, 80, 90, 100, 110, None], 'min_samples_split': [2, 5, 10], 'min_samples_leaf': [1, 2, 4], 'bootstrap': [True, False]},\n",
       "          pre_dispatch='2*n_jobs', random_state=42, refit=True,\n",
       "          return_train_score='warn', scoring=None, verbose=2)"
      ]
     },
     "execution_count": 625,
     "metadata": {},
     "output_type": "execute_result"
    }
   ],
   "source": [
    "model_rf.fit(x_train,y_train)"
   ]
  },
  {
   "cell_type": "code",
   "execution_count": 626,
   "metadata": {},
   "outputs": [
    {
     "data": {
      "text/plain": [
       "{'n_estimators': 200,\n",
       " 'min_samples_split': 10,\n",
       " 'min_samples_leaf': 2,\n",
       " 'max_features': 'sqrt',\n",
       " 'max_depth': 10,\n",
       " 'bootstrap': True}"
      ]
     },
     "execution_count": 626,
     "metadata": {},
     "output_type": "execute_result"
    }
   ],
   "source": [
    "model_rf.best_params_"
   ]
  },
  {
   "cell_type": "code",
   "execution_count": 636,
   "metadata": {},
   "outputs": [],
   "source": [
    "model_rf_100= RandomForestRegressor(n_estimators= 200,\n",
    " min_samples_split= 10,\n",
    " min_samples_leaf= 2,\n",
    " max_features= 'sqrt',\n",
    " max_depth= 10,\n",
    " bootstrap= True)"
   ]
  },
  {
   "cell_type": "code",
   "execution_count": 721,
   "metadata": {},
   "outputs": [
    {
     "data": {
      "text/plain": [
       "RandomForestRegressor(bootstrap=True, criterion='mse', max_depth=10,\n",
       "           max_features='sqrt', max_leaf_nodes=None,\n",
       "           min_impurity_decrease=0.0, min_impurity_split=None,\n",
       "           min_samples_leaf=2, min_samples_split=10,\n",
       "           min_weight_fraction_leaf=0.0, n_estimators=200, n_jobs=None,\n",
       "           oob_score=False, random_state=None, verbose=0, warm_start=False)"
      ]
     },
     "execution_count": 721,
     "metadata": {},
     "output_type": "execute_result"
    }
   ],
   "source": [
    "model_rf_100.fit(x_train,y_train)"
   ]
  },
  {
   "cell_type": "code",
   "execution_count": 758,
   "metadata": {},
   "outputs": [],
   "source": [
    "pred_rf= model_rf.predict(x_test)\n",
    "pred_rf_100= model_rf_100.predict(x_test)"
   ]
  },
  {
   "cell_type": "code",
   "execution_count": 759,
   "metadata": {},
   "outputs": [
    {
     "name": "stdout",
     "output_type": "stream",
     "text": [
      "130.08576922866382\n",
      "134.42259282320697\n"
     ]
    }
   ],
   "source": [
    "print(mean_absolute_error(y_test,pred_rf))\n",
    "print(mean_absolute_error(y_test,pred_rf_100))\n"
   ]
  },
  {
   "cell_type": "markdown",
   "metadata": {},
   "source": [
    "# xgboost"
   ]
  },
  {
   "cell_type": "code",
   "execution_count": 730,
   "metadata": {},
   "outputs": [],
   "source": [
    "import xgboost"
   ]
  },
  {
   "cell_type": "code",
   "execution_count": 731,
   "metadata": {},
   "outputs": [],
   "source": [
    "model_xgb= xgboost.XGBRegressor()"
   ]
  },
  {
   "cell_type": "code",
   "execution_count": 732,
   "metadata": {},
   "outputs": [
    {
     "name": "stderr",
     "output_type": "stream",
     "text": [
      "/home/ai/anaconda3/envs/faq/lib/python3.6/site-packages/xgboost/core.py:587: FutureWarning: Series.base is deprecated and will be removed in a future version\n",
      "  if getattr(data, 'base', None) is not None and \\\n"
     ]
    },
    {
     "data": {
      "text/plain": [
       "XGBRegressor(base_score=0.5, booster='gbtree', colsample_bylevel=1,\n",
       "       colsample_bytree=1, gamma=0, importance_type='gain',\n",
       "       learning_rate=0.1, max_delta_step=0, max_depth=3,\n",
       "       min_child_weight=1, missing=None, n_estimators=100, n_jobs=1,\n",
       "       nthread=None, objective='reg:linear', random_state=0, reg_alpha=0,\n",
       "       reg_lambda=1, scale_pos_weight=1, seed=None, silent=True,\n",
       "       subsample=1)"
      ]
     },
     "execution_count": 732,
     "metadata": {},
     "output_type": "execute_result"
    }
   ],
   "source": [
    "model_xgb.fit(x_train,y_train)"
   ]
  },
  {
   "cell_type": "code",
   "execution_count": 733,
   "metadata": {},
   "outputs": [],
   "source": [
    "pred_xgb= model_xgb.predict(x_test)"
   ]
  },
  {
   "cell_type": "code",
   "execution_count": 734,
   "metadata": {},
   "outputs": [
    {
     "data": {
      "text/plain": [
       "133.7871042537197"
      ]
     },
     "execution_count": 734,
     "metadata": {},
     "output_type": "execute_result"
    }
   ],
   "source": [
    "mean_absolute_error(y_test,pred_xgb)"
   ]
  },
  {
   "cell_type": "code",
   "execution_count": 740,
   "metadata": {},
   "outputs": [
    {
     "name": "stdout",
     "output_type": "stream",
     "text": [
      "Fitting 2 folds for each of 9 candidates, totalling 18 fits\n"
     ]
    },
    {
     "name": "stderr",
     "output_type": "stream",
     "text": [
      "[Parallel(n_jobs=5)]: Using backend LokyBackend with 5 concurrent workers.\n",
      "[Parallel(n_jobs=5)]: Done  18 out of  18 | elapsed:  1.7min finished\n",
      "/home/ai/anaconda3/envs/faq/lib/python3.6/site-packages/xgboost/core.py:587: FutureWarning: Series.base is deprecated and will be removed in a future version\n",
      "  if getattr(data, 'base', None) is not None and \\\n"
     ]
    }
   ],
   "source": [
    "parameters = {'nthread':[4], #when use hyperthread, xgboost may become slower\n",
    "              'objective':['reg:linear'],\n",
    "              'learning_rate': [.03, 0.05, .07], #so called `eta` value\n",
    "              'max_depth': [5, 6, 7],\n",
    "              'min_child_weight': [4],\n",
    "              'silent': [1],\n",
    "              'subsample': [0.7],\n",
    "              'colsample_bytree': [0.7],\n",
    "              'n_estimators': [500]}\n",
    "xgb1= xgboost.XGBRegressor()\n",
    "xgb_grid = GridSearchCV(xgb1,parameters,cv = 2,n_jobs = 5,verbose=True)\n",
    "xgb_grid.fit(x_train,np.log(y_train))\n"
   ]
  },
  {
   "cell_type": "code",
   "execution_count": 742,
   "metadata": {},
   "outputs": [],
   "source": [
    "pred_xgb_grid= xgb_grid.predict(x_test)"
   ]
  },
  {
   "cell_type": "code",
   "execution_count": 743,
   "metadata": {},
   "outputs": [
    {
     "data": {
      "text/plain": [
       "133.55159131836356"
      ]
     },
     "execution_count": 743,
     "metadata": {},
     "output_type": "execute_result"
    }
   ],
   "source": [
    "mean_absolute_error(y_test,np.exp(pred_xgb_grid))"
   ]
  },
  {
   "cell_type": "code",
   "execution_count": 769,
   "metadata": {},
   "outputs": [],
   "source": [
    "data3= pd.read_excel('Final_Train.xlsx')\n",
    "data4= pd.read_excel('Final_Test.xlsx')\n"
   ]
  },
  {
   "cell_type": "code",
   "execution_count": 770,
   "metadata": {},
   "outputs": [
    {
     "data": {
      "text/html": [
       "<div>\n",
       "<style scoped>\n",
       "    .dataframe tbody tr th:only-of-type {\n",
       "        vertical-align: middle;\n",
       "    }\n",
       "\n",
       "    .dataframe tbody tr th {\n",
       "        vertical-align: top;\n",
       "    }\n",
       "\n",
       "    .dataframe thead th {\n",
       "        text-align: right;\n",
       "    }\n",
       "</style>\n",
       "<table border=\"1\" class=\"dataframe\">\n",
       "  <thead>\n",
       "    <tr style=\"text-align: right;\">\n",
       "      <th></th>\n",
       "      <th>Qualification</th>\n",
       "      <th>Experience</th>\n",
       "      <th>Rating</th>\n",
       "      <th>Place</th>\n",
       "      <th>Profile</th>\n",
       "      <th>Miscellaneous_Info</th>\n",
       "    </tr>\n",
       "  </thead>\n",
       "  <tbody>\n",
       "    <tr>\n",
       "      <th>0</th>\n",
       "      <td>MBBS</td>\n",
       "      <td>35 years experience</td>\n",
       "      <td>NaN</td>\n",
       "      <td>Ghatkopar East, Mumbai</td>\n",
       "      <td>General Medicine</td>\n",
       "      <td>NaN</td>\n",
       "    </tr>\n",
       "    <tr>\n",
       "      <th>1</th>\n",
       "      <td>MBBS, Diploma in Otorhinolaryngology (DLO)</td>\n",
       "      <td>31 years experience</td>\n",
       "      <td>NaN</td>\n",
       "      <td>West Marredpally, Hyderabad</td>\n",
       "      <td>ENT Specialist</td>\n",
       "      <td>NaN</td>\n",
       "    </tr>\n",
       "    <tr>\n",
       "      <th>2</th>\n",
       "      <td>MBBS, DDVL</td>\n",
       "      <td>40 years experience</td>\n",
       "      <td>70%</td>\n",
       "      <td>KK Nagar, Chennai</td>\n",
       "      <td>Dermatologists</td>\n",
       "      <td>70% 4 Feedback KK Nagar, Chennai</td>\n",
       "    </tr>\n",
       "    <tr>\n",
       "      <th>3</th>\n",
       "      <td>BAMS</td>\n",
       "      <td>0 years experience</td>\n",
       "      <td>NaN</td>\n",
       "      <td>New Ashok Nagar, Delhi</td>\n",
       "      <td>Ayurveda</td>\n",
       "      <td>NaN</td>\n",
       "    </tr>\n",
       "    <tr>\n",
       "      <th>4</th>\n",
       "      <td>BDS, MDS - Conservative Dentistry &amp; Endodontics</td>\n",
       "      <td>16 years experience</td>\n",
       "      <td>100%</td>\n",
       "      <td>Kanakpura Road, Bangalore</td>\n",
       "      <td>Dentist</td>\n",
       "      <td>General Dentistry Conservative Dentistry Cosme...</td>\n",
       "    </tr>\n",
       "    <tr>\n",
       "      <th>5</th>\n",
       "      <td>BDS, MDS</td>\n",
       "      <td>14 years experience</td>\n",
       "      <td>90%</td>\n",
       "      <td>Velachery, Chennai</td>\n",
       "      <td>Dentist</td>\n",
       "      <td>Acrylic Partial Denture Impaction / Impacted T...</td>\n",
       "    </tr>\n",
       "    <tr>\n",
       "      <th>6</th>\n",
       "      <td>MBBS, Diploma in Otorhinolaryngology (DLO)</td>\n",
       "      <td>23 years experience</td>\n",
       "      <td>94%</td>\n",
       "      <td>Frazer Town, Bangalore</td>\n",
       "      <td>ENT Specialist</td>\n",
       "      <td>94% 6 Feedback Frazer Town, Bangalore</td>\n",
       "    </tr>\n",
       "    <tr>\n",
       "      <th>7</th>\n",
       "      <td>BDS, MDS - Pedodontics</td>\n",
       "      <td>9 years experience</td>\n",
       "      <td>94%</td>\n",
       "      <td>Attapur, Hyderabad</td>\n",
       "      <td>Dentist</td>\n",
       "      <td>RCT - Root Canal Treatment Ceramic Veneers / C...</td>\n",
       "    </tr>\n",
       "    <tr>\n",
       "      <th>8</th>\n",
       "      <td>MD - Ayurveda Medicine, BAMS, Yoga Teachers Tr...</td>\n",
       "      <td>11 years experience</td>\n",
       "      <td>99%</td>\n",
       "      <td>Banashankari, Bangalore</td>\n",
       "      <td>Ayurveda</td>\n",
       "      <td>99% 203 Feedback Banashankari, Bangalore</td>\n",
       "    </tr>\n",
       "    <tr>\n",
       "      <th>9</th>\n",
       "      <td>BHMS</td>\n",
       "      <td>44 years experience</td>\n",
       "      <td>NaN</td>\n",
       "      <td>Mayur Vihar Ph-I, Delhi</td>\n",
       "      <td>Homeopath</td>\n",
       "      <td>NaN</td>\n",
       "    </tr>\n",
       "    <tr>\n",
       "      <th>10</th>\n",
       "      <td>BDS</td>\n",
       "      <td>4 years experience</td>\n",
       "      <td>100%</td>\n",
       "      <td>Erragadda, Hyderabad</td>\n",
       "      <td>Dentist</td>\n",
       "      <td>Dental Fillings Zirconia Crowns RCT - Single S...</td>\n",
       "    </tr>\n",
       "    <tr>\n",
       "      <th>11</th>\n",
       "      <td>MBBS, FCD - Diabetology</td>\n",
       "      <td>34 years experience</td>\n",
       "      <td>NaN</td>\n",
       "      <td>Gandhipuram, Coimbatore</td>\n",
       "      <td>General Medicine</td>\n",
       "      <td>NaN</td>\n",
       "    </tr>\n",
       "    <tr>\n",
       "      <th>12</th>\n",
       "      <td>MBBS, DDV</td>\n",
       "      <td>11 years experience</td>\n",
       "      <td>98%</td>\n",
       "      <td>Kemps Corner, Mumbai</td>\n",
       "      <td>Dermatologists</td>\n",
       "      <td>98% 28 Feedback Kemps Corner, Mumbai</td>\n",
       "    </tr>\n",
       "    <tr>\n",
       "      <th>13</th>\n",
       "      <td>MBBS, MD - Dermatology</td>\n",
       "      <td>13 years experience</td>\n",
       "      <td>99%</td>\n",
       "      <td>Banjara Hills, Hyderabad</td>\n",
       "      <td>Dermatologists</td>\n",
       "      <td>Laser Hair Removal - Face Skin Tag Treatment H...</td>\n",
       "    </tr>\n",
       "    <tr>\n",
       "      <th>14</th>\n",
       "      <td>MS - ENT</td>\n",
       "      <td>4 years experience</td>\n",
       "      <td>NaN</td>\n",
       "      <td>Madandapuram, Chennai</td>\n",
       "      <td>ENT Specialist</td>\n",
       "      <td>NaN</td>\n",
       "    </tr>\n",
       "    <tr>\n",
       "      <th>15</th>\n",
       "      <td>BDS</td>\n",
       "      <td>4 years experience</td>\n",
       "      <td>NaN</td>\n",
       "      <td>Mukherjee Nagar, Delhi</td>\n",
       "      <td>Dentist</td>\n",
       "      <td>Mukherjee Nagar, Delhi ₹250 Visits Today</td>\n",
       "    </tr>\n",
       "    <tr>\n",
       "      <th>16</th>\n",
       "      <td>MBBS, MD - Dermatology</td>\n",
       "      <td>16 years experience</td>\n",
       "      <td>87%</td>\n",
       "      <td>Tis Hazari, Delhi</td>\n",
       "      <td>Dermatologists</td>\n",
       "      <td>87% 9 Feedback Tis Hazari, Delhi</td>\n",
       "    </tr>\n",
       "    <tr>\n",
       "      <th>17</th>\n",
       "      <td>MBBS, Diploma in Otorhinolaryngology (DLO), MS...</td>\n",
       "      <td>28 years experience</td>\n",
       "      <td>64%</td>\n",
       "      <td>Banashankari 2nd Stage, Bangalore</td>\n",
       "      <td>ENT Specialist</td>\n",
       "      <td>64% 4 Feedback Banashankari 2nd Stage, Bangalore</td>\n",
       "    </tr>\n",
       "    <tr>\n",
       "      <th>18</th>\n",
       "      <td>BDS, MDS - Conservative Dentistry &amp; Endodontics</td>\n",
       "      <td>6 years experience</td>\n",
       "      <td>NaN</td>\n",
       "      <td>Nagawara, Bangalore</td>\n",
       "      <td>Dentist</td>\n",
       "      <td>Ceramic Veneers / Crowns Cosmetic/ Aesthetic D...</td>\n",
       "    </tr>\n",
       "    <tr>\n",
       "      <th>19</th>\n",
       "      <td>MBBS, MD - Dermatology</td>\n",
       "      <td>32 years experience</td>\n",
       "      <td>90%</td>\n",
       "      <td>Basavanagudi, Bangalore</td>\n",
       "      <td>Dermatologists</td>\n",
       "      <td>90% 3 Feedback Basavanagudi, Bangalore</td>\n",
       "    </tr>\n",
       "    <tr>\n",
       "      <th>20</th>\n",
       "      <td>BHMS, Diploma in Naturopathy &amp; Yogic Science (...</td>\n",
       "      <td>11 years experience</td>\n",
       "      <td>NaN</td>\n",
       "      <td>Dadar, Mumbai</td>\n",
       "      <td>Homeopath</td>\n",
       "      <td>NaN</td>\n",
       "    </tr>\n",
       "    <tr>\n",
       "      <th>21</th>\n",
       "      <td>BDS</td>\n",
       "      <td>3 years experience</td>\n",
       "      <td>NaN</td>\n",
       "      <td>Kattakada, Thiruvananthapuram</td>\n",
       "      <td>Dentist</td>\n",
       "      <td>NaN</td>\n",
       "    </tr>\n",
       "    <tr>\n",
       "      <th>22</th>\n",
       "      <td>MBBS, MD - Dermatology</td>\n",
       "      <td>8 years experience</td>\n",
       "      <td>NaN</td>\n",
       "      <td>Villivakkam, Chennai</td>\n",
       "      <td>Dermatologists</td>\n",
       "      <td>NaN</td>\n",
       "    </tr>\n",
       "    <tr>\n",
       "      <th>23</th>\n",
       "      <td>MBBS, PG Diploma In Clinical Cosmetology (PGDCC)</td>\n",
       "      <td>13 years experience</td>\n",
       "      <td>100%</td>\n",
       "      <td>Begumpet, Hyderabad</td>\n",
       "      <td>General Medicine</td>\n",
       "      <td>100% 10 Feedback Begumpet, Hyderabad</td>\n",
       "    </tr>\n",
       "    <tr>\n",
       "      <th>24</th>\n",
       "      <td>MBBS</td>\n",
       "      <td>43 years experience</td>\n",
       "      <td>NaN</td>\n",
       "      <td>Kottivakkam, Chennai</td>\n",
       "      <td>General Medicine</td>\n",
       "      <td>NaN</td>\n",
       "    </tr>\n",
       "    <tr>\n",
       "      <th>25</th>\n",
       "      <td>MBBS, Diploma in Otorhinolaryngology (DLO)</td>\n",
       "      <td>27 years experience</td>\n",
       "      <td>NaN</td>\n",
       "      <td>Jeedimetla, Hyderabad</td>\n",
       "      <td>ENT Specialist</td>\n",
       "      <td>NaN</td>\n",
       "    </tr>\n",
       "    <tr>\n",
       "      <th>26</th>\n",
       "      <td>BDS, MDS - Periodontics</td>\n",
       "      <td>22 years experience</td>\n",
       "      <td>100%</td>\n",
       "      <td>Gachibowli, Hyderabad</td>\n",
       "      <td>Dentist</td>\n",
       "      <td>Crowns and Bridges Fixing Teeth Whitening Gum ...</td>\n",
       "    </tr>\n",
       "    <tr>\n",
       "      <th>27</th>\n",
       "      <td>BDS, MDS- Oral Pathology</td>\n",
       "      <td>8 years experience</td>\n",
       "      <td>96%</td>\n",
       "      <td>Chromepet, Chennai</td>\n",
       "      <td>Dentist</td>\n",
       "      <td>Artificial Teeth Conservative Dentistry Crowns...</td>\n",
       "    </tr>\n",
       "    <tr>\n",
       "      <th>28</th>\n",
       "      <td>MBBS, MD - General Medicine</td>\n",
       "      <td>25 years experience</td>\n",
       "      <td>NaN</td>\n",
       "      <td>Mulund West, Mumbai</td>\n",
       "      <td>General Medicine</td>\n",
       "      <td>Balance Exercises Acne / Pimples Treatment Ins...</td>\n",
       "    </tr>\n",
       "    <tr>\n",
       "      <th>29</th>\n",
       "      <td>MS - ENT, MBBS</td>\n",
       "      <td>4 years experience</td>\n",
       "      <td>NaN</td>\n",
       "      <td>Bellandur, Bangalore</td>\n",
       "      <td>ENT Specialist</td>\n",
       "      <td>NaN</td>\n",
       "    </tr>\n",
       "    <tr>\n",
       "      <th>...</th>\n",
       "      <td>...</td>\n",
       "      <td>...</td>\n",
       "      <td>...</td>\n",
       "      <td>...</td>\n",
       "      <td>...</td>\n",
       "      <td>...</td>\n",
       "    </tr>\n",
       "    <tr>\n",
       "      <th>70</th>\n",
       "      <td>MBBS</td>\n",
       "      <td>21 years experience</td>\n",
       "      <td>NaN</td>\n",
       "      <td>Karapakkam, Chennai</td>\n",
       "      <td>General Medicine</td>\n",
       "      <td>NaN</td>\n",
       "    </tr>\n",
       "    <tr>\n",
       "      <th>71</th>\n",
       "      <td>MBBS, MS - ENT</td>\n",
       "      <td>19 years experience</td>\n",
       "      <td>NaN</td>\n",
       "      <td>Richmond Town, Bangalore</td>\n",
       "      <td>ENT Specialist</td>\n",
       "      <td>NaN</td>\n",
       "    </tr>\n",
       "    <tr>\n",
       "      <th>72</th>\n",
       "      <td>MBBS, MD - Medicine</td>\n",
       "      <td>12 years experience</td>\n",
       "      <td>71%</td>\n",
       "      <td>Malviya Nagar, Delhi</td>\n",
       "      <td>General Medicine</td>\n",
       "      <td>71% 6 Feedback Malviya Nagar, Delhi</td>\n",
       "    </tr>\n",
       "    <tr>\n",
       "      <th>73</th>\n",
       "      <td>MBBS, MS - ENT</td>\n",
       "      <td>9 years experience</td>\n",
       "      <td>NaN</td>\n",
       "      <td>Adyar, Chennai</td>\n",
       "      <td>ENT Specialist</td>\n",
       "      <td>NaN</td>\n",
       "    </tr>\n",
       "    <tr>\n",
       "      <th>74</th>\n",
       "      <td>DM - Nephrology, MD - Internal Medicine, MBBS</td>\n",
       "      <td>9 years experience</td>\n",
       "      <td>NaN</td>\n",
       "      <td>Kothapet, Hyderabad</td>\n",
       "      <td>General Medicine</td>\n",
       "      <td>2 Feedback Kothapet, Hyderabad ₹350</td>\n",
       "    </tr>\n",
       "    <tr>\n",
       "      <th>75</th>\n",
       "      <td>BAMS, MD - Ayurveda Medicine</td>\n",
       "      <td>20 years experience</td>\n",
       "      <td>NaN</td>\n",
       "      <td>RT Nagar, Bangalore</td>\n",
       "      <td>Ayurveda</td>\n",
       "      <td>NaN</td>\n",
       "    </tr>\n",
       "    <tr>\n",
       "      <th>76</th>\n",
       "      <td>MBBS, DDVL, FRGUHS</td>\n",
       "      <td>8 years experience</td>\n",
       "      <td>93%</td>\n",
       "      <td>Malleswaram, Bangalore</td>\n",
       "      <td>Dermatologists</td>\n",
       "      <td>Laser Hair Removal - Face Hair Loss Treatment ...</td>\n",
       "    </tr>\n",
       "    <tr>\n",
       "      <th>77</th>\n",
       "      <td>MBBS</td>\n",
       "      <td>17 years experience</td>\n",
       "      <td>NaN</td>\n",
       "      <td>Sahakaranagar, Bangalore</td>\n",
       "      <td>General Medicine</td>\n",
       "      <td>NaN</td>\n",
       "    </tr>\n",
       "    <tr>\n",
       "      <th>78</th>\n",
       "      <td>MBBS</td>\n",
       "      <td>40 years experience</td>\n",
       "      <td>NaN</td>\n",
       "      <td>Chamarajpet, Bangalore</td>\n",
       "      <td>General Medicine</td>\n",
       "      <td>NaN</td>\n",
       "    </tr>\n",
       "    <tr>\n",
       "      <th>79</th>\n",
       "      <td>MBBS, MS - ENT</td>\n",
       "      <td>14 years experience</td>\n",
       "      <td>93%</td>\n",
       "      <td>Kalyan Nagar, Bangalore</td>\n",
       "      <td>ENT Specialist</td>\n",
       "      <td>93% 13 Feedback Kalyan Nagar, Bangalore</td>\n",
       "    </tr>\n",
       "    <tr>\n",
       "      <th>80</th>\n",
       "      <td>MBBS</td>\n",
       "      <td>45 years experience</td>\n",
       "      <td>NaN</td>\n",
       "      <td>Nagarbhavi, Bangalore</td>\n",
       "      <td>General Medicine</td>\n",
       "      <td>NaN</td>\n",
       "    </tr>\n",
       "    <tr>\n",
       "      <th>81</th>\n",
       "      <td>MBBS, Diploma in Otorhinolaryngology (DLO), FR...</td>\n",
       "      <td>33 years experience</td>\n",
       "      <td>NaN</td>\n",
       "      <td>Teynampet, Chennai</td>\n",
       "      <td>ENT Specialist</td>\n",
       "      <td>NaN</td>\n",
       "    </tr>\n",
       "    <tr>\n",
       "      <th>82</th>\n",
       "      <td>MBBS, MD - General Medicine</td>\n",
       "      <td>19 years experience</td>\n",
       "      <td>94%</td>\n",
       "      <td>Mulund West, Mumbai</td>\n",
       "      <td>General Medicine</td>\n",
       "      <td>Chest Pain Treatment Diseases in Pregnancy X- Ray</td>\n",
       "    </tr>\n",
       "    <tr>\n",
       "      <th>83</th>\n",
       "      <td>BDS</td>\n",
       "      <td>8 years experience</td>\n",
       "      <td>100%</td>\n",
       "      <td>Balkampet, Hyderabad</td>\n",
       "      <td>Dentist</td>\n",
       "      <td>RCT - Root Canal Treatment Dental X-Ray Dental...</td>\n",
       "    </tr>\n",
       "    <tr>\n",
       "      <th>84</th>\n",
       "      <td>BHMS</td>\n",
       "      <td>3 years experience</td>\n",
       "      <td>NaN</td>\n",
       "      <td>Mehrauli, Delhi</td>\n",
       "      <td>Homeopath</td>\n",
       "      <td>NaN</td>\n",
       "    </tr>\n",
       "    <tr>\n",
       "      <th>85</th>\n",
       "      <td>BDS, MDS - Oral &amp; Maxillofacial Surgery, Fello...</td>\n",
       "      <td>16 years experience</td>\n",
       "      <td>100%</td>\n",
       "      <td>Goregaon East, Mumbai</td>\n",
       "      <td>Dentist</td>\n",
       "      <td>Oral &amp; Maxillofacial Surgery Cleft Lip &amp; Palat...</td>\n",
       "    </tr>\n",
       "    <tr>\n",
       "      <th>86</th>\n",
       "      <td>MBBS</td>\n",
       "      <td>35 years experience</td>\n",
       "      <td>NaN</td>\n",
       "      <td>Goregaon West, Mumbai</td>\n",
       "      <td>General Medicine</td>\n",
       "      <td>NaN</td>\n",
       "    </tr>\n",
       "    <tr>\n",
       "      <th>87</th>\n",
       "      <td>MBBS, DNB - Otorhinolaryngology</td>\n",
       "      <td>28 years experience</td>\n",
       "      <td>94%</td>\n",
       "      <td>Vileparle West, Mumbai</td>\n",
       "      <td>ENT Specialist</td>\n",
       "      <td>ENT Checkup (General) Ear Drum Repair Reconstr...</td>\n",
       "    </tr>\n",
       "    <tr>\n",
       "      <th>88</th>\n",
       "      <td>BAMS</td>\n",
       "      <td>27 years experience</td>\n",
       "      <td>NaN</td>\n",
       "      <td>Badarpur, Delhi</td>\n",
       "      <td>Ayurveda</td>\n",
       "      <td>NaN</td>\n",
       "    </tr>\n",
       "    <tr>\n",
       "      <th>89</th>\n",
       "      <td>Post Graduate Diploma in Diabetology (PGDD)(Ma...</td>\n",
       "      <td>16 years experience</td>\n",
       "      <td>NaN</td>\n",
       "      <td>Navalur, Chennai</td>\n",
       "      <td>General Medicine</td>\n",
       "      <td>1 Feedback Navalur, Chennai ₹300</td>\n",
       "    </tr>\n",
       "    <tr>\n",
       "      <th>90</th>\n",
       "      <td>Certificate in Dental Implants, MDS - Oral Med...</td>\n",
       "      <td>17 years experience</td>\n",
       "      <td>99%</td>\n",
       "      <td>HSR Layout, Bangalore</td>\n",
       "      <td>Dentist</td>\n",
       "      <td>99% 112 Feedback HSR Layout, Bangalore</td>\n",
       "    </tr>\n",
       "    <tr>\n",
       "      <th>91</th>\n",
       "      <td>MBBS, MS - ENT</td>\n",
       "      <td>29 years experience</td>\n",
       "      <td>83%</td>\n",
       "      <td>Chandrayangutta, Hyderabad</td>\n",
       "      <td>ENT Specialist</td>\n",
       "      <td>83% 3 Feedback Chandrayangutta, Hyderabad</td>\n",
       "    </tr>\n",
       "    <tr>\n",
       "      <th>92</th>\n",
       "      <td>BDS, MDS - Orthodontics and Dentofacial Orthop...</td>\n",
       "      <td>5 years experience</td>\n",
       "      <td>NaN</td>\n",
       "      <td>Dadar, Mumbai</td>\n",
       "      <td>Dentist</td>\n",
       "      <td>Orthodontic Treatment Invisible Orthodontics M...</td>\n",
       "    </tr>\n",
       "    <tr>\n",
       "      <th>93</th>\n",
       "      <td>MBBS, MD - Internal Medicine</td>\n",
       "      <td>10 years experience</td>\n",
       "      <td>98%</td>\n",
       "      <td>Prabhadevi, Mumbai</td>\n",
       "      <td>General Medicine</td>\n",
       "      <td>98% 19 Feedback Prabhadevi, Mumbai</td>\n",
       "    </tr>\n",
       "    <tr>\n",
       "      <th>94</th>\n",
       "      <td>BHMS</td>\n",
       "      <td>5 years experience</td>\n",
       "      <td>NaN</td>\n",
       "      <td>Badarpur, Delhi</td>\n",
       "      <td>Homeopath</td>\n",
       "      <td>NaN</td>\n",
       "    </tr>\n",
       "    <tr>\n",
       "      <th>95</th>\n",
       "      <td>MDS - Conservative Dentistry &amp; Endodontics, BDS</td>\n",
       "      <td>11 years experience</td>\n",
       "      <td>100%</td>\n",
       "      <td>Ernakulam, Ernakulam</td>\n",
       "      <td>Dentist</td>\n",
       "      <td>100% 1 Feedback Ernakulam, Ernakulam</td>\n",
       "    </tr>\n",
       "    <tr>\n",
       "      <th>96</th>\n",
       "      <td>MBBS, MD - General Medicine, DNB - General Med...</td>\n",
       "      <td>9 years experience</td>\n",
       "      <td>96%</td>\n",
       "      <td>Frazer Town, Bangalore</td>\n",
       "      <td>General Medicine</td>\n",
       "      <td>96% 59 Feedback Frazer Town, Bangalore</td>\n",
       "    </tr>\n",
       "    <tr>\n",
       "      <th>97</th>\n",
       "      <td>BHMS</td>\n",
       "      <td>6 years experience</td>\n",
       "      <td>NaN</td>\n",
       "      <td>Peddar Road, Mumbai</td>\n",
       "      <td>Homeopath</td>\n",
       "      <td>Homeopathy Acne / Pimples Treatment Hair Loss ...</td>\n",
       "    </tr>\n",
       "    <tr>\n",
       "      <th>98</th>\n",
       "      <td>MD - Tuberculosis &amp; Respiratory Diseases/Medic...</td>\n",
       "      <td>38 years experience</td>\n",
       "      <td>NaN</td>\n",
       "      <td>Goregaon West, Mumbai</td>\n",
       "      <td>General Medicine</td>\n",
       "      <td>NaN</td>\n",
       "    </tr>\n",
       "    <tr>\n",
       "      <th>99</th>\n",
       "      <td>MBBS, DDV, MD - Dermatology, Fellowship In Cos...</td>\n",
       "      <td>25 years experience</td>\n",
       "      <td>95%</td>\n",
       "      <td>Bannerghatta Road, Bangalore</td>\n",
       "      <td>Dermatologists</td>\n",
       "      <td>95% 9 Feedback Bannerghatta Road, Bangalore</td>\n",
       "    </tr>\n",
       "  </tbody>\n",
       "</table>\n",
       "<p>100 rows × 6 columns</p>\n",
       "</div>"
      ],
      "text/plain": [
       "                                        Qualification           Experience  \\\n",
       "0                                                MBBS  35 years experience   \n",
       "1          MBBS, Diploma in Otorhinolaryngology (DLO)  31 years experience   \n",
       "2                                          MBBS, DDVL  40 years experience   \n",
       "3                                                BAMS   0 years experience   \n",
       "4     BDS, MDS - Conservative Dentistry & Endodontics  16 years experience   \n",
       "5                                            BDS, MDS  14 years experience   \n",
       "6          MBBS, Diploma in Otorhinolaryngology (DLO)  23 years experience   \n",
       "7                              BDS, MDS - Pedodontics   9 years experience   \n",
       "8   MD - Ayurveda Medicine, BAMS, Yoga Teachers Tr...  11 years experience   \n",
       "9                                                BHMS  44 years experience   \n",
       "10                                                BDS   4 years experience   \n",
       "11                            MBBS, FCD - Diabetology  34 years experience   \n",
       "12                                          MBBS, DDV  11 years experience   \n",
       "13                             MBBS, MD - Dermatology  13 years experience   \n",
       "14                                           MS - ENT   4 years experience   \n",
       "15                                                BDS   4 years experience   \n",
       "16                             MBBS, MD - Dermatology  16 years experience   \n",
       "17  MBBS, Diploma in Otorhinolaryngology (DLO), MS...  28 years experience   \n",
       "18    BDS, MDS - Conservative Dentistry & Endodontics   6 years experience   \n",
       "19                             MBBS, MD - Dermatology  32 years experience   \n",
       "20  BHMS, Diploma in Naturopathy & Yogic Science (...  11 years experience   \n",
       "21                                                BDS   3 years experience   \n",
       "22                             MBBS, MD - Dermatology   8 years experience   \n",
       "23   MBBS, PG Diploma In Clinical Cosmetology (PGDCC)  13 years experience   \n",
       "24                                               MBBS  43 years experience   \n",
       "25         MBBS, Diploma in Otorhinolaryngology (DLO)  27 years experience   \n",
       "26                            BDS, MDS - Periodontics  22 years experience   \n",
       "27                           BDS, MDS- Oral Pathology   8 years experience   \n",
       "28                        MBBS, MD - General Medicine  25 years experience   \n",
       "29                                     MS - ENT, MBBS   4 years experience   \n",
       "..                                                ...                  ...   \n",
       "70                                               MBBS  21 years experience   \n",
       "71                                     MBBS, MS - ENT  19 years experience   \n",
       "72                                MBBS, MD - Medicine  12 years experience   \n",
       "73                                     MBBS, MS - ENT   9 years experience   \n",
       "74      DM - Nephrology, MD - Internal Medicine, MBBS   9 years experience   \n",
       "75                       BAMS, MD - Ayurveda Medicine  20 years experience   \n",
       "76                                 MBBS, DDVL, FRGUHS   8 years experience   \n",
       "77                                               MBBS  17 years experience   \n",
       "78                                               MBBS  40 years experience   \n",
       "79                                     MBBS, MS - ENT  14 years experience   \n",
       "80                                               MBBS  45 years experience   \n",
       "81  MBBS, Diploma in Otorhinolaryngology (DLO), FR...  33 years experience   \n",
       "82                        MBBS, MD - General Medicine  19 years experience   \n",
       "83                                                BDS   8 years experience   \n",
       "84                                               BHMS   3 years experience   \n",
       "85  BDS, MDS - Oral & Maxillofacial Surgery, Fello...  16 years experience   \n",
       "86                                               MBBS  35 years experience   \n",
       "87                    MBBS, DNB - Otorhinolaryngology  28 years experience   \n",
       "88                                               BAMS  27 years experience   \n",
       "89  Post Graduate Diploma in Diabetology (PGDD)(Ma...  16 years experience   \n",
       "90  Certificate in Dental Implants, MDS - Oral Med...  17 years experience   \n",
       "91                                     MBBS, MS - ENT  29 years experience   \n",
       "92  BDS, MDS - Orthodontics and Dentofacial Orthop...   5 years experience   \n",
       "93                       MBBS, MD - Internal Medicine  10 years experience   \n",
       "94                                               BHMS   5 years experience   \n",
       "95    MDS - Conservative Dentistry & Endodontics, BDS  11 years experience   \n",
       "96  MBBS, MD - General Medicine, DNB - General Med...   9 years experience   \n",
       "97                                               BHMS   6 years experience   \n",
       "98  MD - Tuberculosis & Respiratory Diseases/Medic...  38 years experience   \n",
       "99  MBBS, DDV, MD - Dermatology, Fellowship In Cos...  25 years experience   \n",
       "\n",
       "   Rating                              Place           Profile  \\\n",
       "0     NaN             Ghatkopar East, Mumbai  General Medicine   \n",
       "1     NaN        West Marredpally, Hyderabad    ENT Specialist   \n",
       "2     70%                  KK Nagar, Chennai    Dermatologists   \n",
       "3     NaN             New Ashok Nagar, Delhi          Ayurveda   \n",
       "4    100%          Kanakpura Road, Bangalore           Dentist   \n",
       "5     90%                 Velachery, Chennai           Dentist   \n",
       "6     94%             Frazer Town, Bangalore    ENT Specialist   \n",
       "7     94%                 Attapur, Hyderabad           Dentist   \n",
       "8     99%            Banashankari, Bangalore          Ayurveda   \n",
       "9     NaN            Mayur Vihar Ph-I, Delhi         Homeopath   \n",
       "10   100%               Erragadda, Hyderabad           Dentist   \n",
       "11    NaN            Gandhipuram, Coimbatore  General Medicine   \n",
       "12    98%               Kemps Corner, Mumbai    Dermatologists   \n",
       "13    99%           Banjara Hills, Hyderabad    Dermatologists   \n",
       "14    NaN              Madandapuram, Chennai    ENT Specialist   \n",
       "15    NaN             Mukherjee Nagar, Delhi           Dentist   \n",
       "16    87%                  Tis Hazari, Delhi    Dermatologists   \n",
       "17    64%  Banashankari 2nd Stage, Bangalore    ENT Specialist   \n",
       "18    NaN                Nagawara, Bangalore           Dentist   \n",
       "19    90%            Basavanagudi, Bangalore    Dermatologists   \n",
       "20    NaN                      Dadar, Mumbai         Homeopath   \n",
       "21    NaN      Kattakada, Thiruvananthapuram           Dentist   \n",
       "22    NaN               Villivakkam, Chennai    Dermatologists   \n",
       "23   100%                Begumpet, Hyderabad  General Medicine   \n",
       "24    NaN               Kottivakkam, Chennai  General Medicine   \n",
       "25    NaN              Jeedimetla, Hyderabad    ENT Specialist   \n",
       "26   100%              Gachibowli, Hyderabad           Dentist   \n",
       "27    96%                 Chromepet, Chennai           Dentist   \n",
       "28    NaN                Mulund West, Mumbai  General Medicine   \n",
       "29    NaN               Bellandur, Bangalore    ENT Specialist   \n",
       "..    ...                                ...               ...   \n",
       "70    NaN                Karapakkam, Chennai  General Medicine   \n",
       "71    NaN           Richmond Town, Bangalore    ENT Specialist   \n",
       "72    71%               Malviya Nagar, Delhi  General Medicine   \n",
       "73    NaN                     Adyar, Chennai    ENT Specialist   \n",
       "74    NaN                Kothapet, Hyderabad  General Medicine   \n",
       "75    NaN                RT Nagar, Bangalore          Ayurveda   \n",
       "76    93%             Malleswaram, Bangalore    Dermatologists   \n",
       "77    NaN           Sahakaranagar, Bangalore  General Medicine   \n",
       "78    NaN             Chamarajpet, Bangalore  General Medicine   \n",
       "79    93%            Kalyan Nagar, Bangalore    ENT Specialist   \n",
       "80    NaN              Nagarbhavi, Bangalore  General Medicine   \n",
       "81    NaN                 Teynampet, Chennai    ENT Specialist   \n",
       "82    94%                Mulund West, Mumbai  General Medicine   \n",
       "83   100%               Balkampet, Hyderabad           Dentist   \n",
       "84    NaN                    Mehrauli, Delhi         Homeopath   \n",
       "85   100%              Goregaon East, Mumbai           Dentist   \n",
       "86    NaN              Goregaon West, Mumbai  General Medicine   \n",
       "87    94%             Vileparle West, Mumbai    ENT Specialist   \n",
       "88    NaN                    Badarpur, Delhi          Ayurveda   \n",
       "89    NaN                   Navalur, Chennai  General Medicine   \n",
       "90    99%              HSR Layout, Bangalore           Dentist   \n",
       "91    83%         Chandrayangutta, Hyderabad    ENT Specialist   \n",
       "92    NaN                      Dadar, Mumbai           Dentist   \n",
       "93    98%                 Prabhadevi, Mumbai  General Medicine   \n",
       "94    NaN                    Badarpur, Delhi         Homeopath   \n",
       "95   100%               Ernakulam, Ernakulam           Dentist   \n",
       "96    96%             Frazer Town, Bangalore  General Medicine   \n",
       "97    NaN                Peddar Road, Mumbai         Homeopath   \n",
       "98    NaN              Goregaon West, Mumbai  General Medicine   \n",
       "99    95%       Bannerghatta Road, Bangalore    Dermatologists   \n",
       "\n",
       "                                   Miscellaneous_Info  \n",
       "0                                                 NaN  \n",
       "1                                                 NaN  \n",
       "2                    70% 4 Feedback KK Nagar, Chennai  \n",
       "3                                                 NaN  \n",
       "4   General Dentistry Conservative Dentistry Cosme...  \n",
       "5   Acrylic Partial Denture Impaction / Impacted T...  \n",
       "6               94% 6 Feedback Frazer Town, Bangalore  \n",
       "7   RCT - Root Canal Treatment Ceramic Veneers / C...  \n",
       "8            99% 203 Feedback Banashankari, Bangalore  \n",
       "9                                                 NaN  \n",
       "10  Dental Fillings Zirconia Crowns RCT - Single S...  \n",
       "11                                                NaN  \n",
       "12               98% 28 Feedback Kemps Corner, Mumbai  \n",
       "13  Laser Hair Removal - Face Skin Tag Treatment H...  \n",
       "14                                                NaN  \n",
       "15           Mukherjee Nagar, Delhi ₹250 Visits Today  \n",
       "16                   87% 9 Feedback Tis Hazari, Delhi  \n",
       "17   64% 4 Feedback Banashankari 2nd Stage, Bangalore  \n",
       "18  Ceramic Veneers / Crowns Cosmetic/ Aesthetic D...  \n",
       "19             90% 3 Feedback Basavanagudi, Bangalore  \n",
       "20                                                NaN  \n",
       "21                                                NaN  \n",
       "22                                                NaN  \n",
       "23               100% 10 Feedback Begumpet, Hyderabad  \n",
       "24                                                NaN  \n",
       "25                                                NaN  \n",
       "26  Crowns and Bridges Fixing Teeth Whitening Gum ...  \n",
       "27  Artificial Teeth Conservative Dentistry Crowns...  \n",
       "28  Balance Exercises Acne / Pimples Treatment Ins...  \n",
       "29                                                NaN  \n",
       "..                                                ...  \n",
       "70                                                NaN  \n",
       "71                                                NaN  \n",
       "72                71% 6 Feedback Malviya Nagar, Delhi  \n",
       "73                                                NaN  \n",
       "74                2 Feedback Kothapet, Hyderabad ₹350  \n",
       "75                                                NaN  \n",
       "76  Laser Hair Removal - Face Hair Loss Treatment ...  \n",
       "77                                                NaN  \n",
       "78                                                NaN  \n",
       "79            93% 13 Feedback Kalyan Nagar, Bangalore  \n",
       "80                                                NaN  \n",
       "81                                                NaN  \n",
       "82  Chest Pain Treatment Diseases in Pregnancy X- Ray  \n",
       "83  RCT - Root Canal Treatment Dental X-Ray Dental...  \n",
       "84                                                NaN  \n",
       "85  Oral & Maxillofacial Surgery Cleft Lip & Palat...  \n",
       "86                                                NaN  \n",
       "87  ENT Checkup (General) Ear Drum Repair Reconstr...  \n",
       "88                                                NaN  \n",
       "89                   1 Feedback Navalur, Chennai ₹300  \n",
       "90             99% 112 Feedback HSR Layout, Bangalore  \n",
       "91          83% 3 Feedback Chandrayangutta, Hyderabad  \n",
       "92  Orthodontic Treatment Invisible Orthodontics M...  \n",
       "93                 98% 19 Feedback Prabhadevi, Mumbai  \n",
       "94                                                NaN  \n",
       "95               100% 1 Feedback Ernakulam, Ernakulam  \n",
       "96             96% 59 Feedback Frazer Town, Bangalore  \n",
       "97  Homeopathy Acne / Pimples Treatment Hair Loss ...  \n",
       "98                                                NaN  \n",
       "99        95% 9 Feedback Bannerghatta Road, Bangalore  \n",
       "\n",
       "[100 rows x 6 columns]"
      ]
     },
     "execution_count": 770,
     "metadata": {},
     "output_type": "execute_result"
    }
   ],
   "source": [
    "data4.head(100)"
   ]
  },
  {
   "cell_type": "code",
   "execution_count": null,
   "metadata": {},
   "outputs": [],
   "source": []
  }
 ],
 "metadata": {
  "kernelspec": {
   "display_name": "faq",
   "language": "python",
   "name": "faq"
  },
  "language_info": {
   "codemirror_mode": {
    "name": "ipython",
    "version": 3
   },
   "file_extension": ".py",
   "mimetype": "text/x-python",
   "name": "python",
   "nbconvert_exporter": "python",
   "pygments_lexer": "ipython3",
   "version": "3.6.8"
  }
 },
 "nbformat": 4,
 "nbformat_minor": 2
}
